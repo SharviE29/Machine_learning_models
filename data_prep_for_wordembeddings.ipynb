{
  "nbformat": 4,
  "nbformat_minor": 0,
  "metadata": {
    "colab": {
      "provenance": [],
      "authorship_tag": "ABX9TyNgfJ959ALAHD9Cp8DqXmzy",
      "include_colab_link": true
    },
    "kernelspec": {
      "name": "python3",
      "display_name": "Python 3"
    },
    "language_info": {
      "name": "python"
    }
  },
  "cells": [
    {
      "cell_type": "markdown",
      "metadata": {
        "id": "view-in-github",
        "colab_type": "text"
      },
      "source": [
        "<a href=\"https://colab.research.google.com/github/SharviE29/Machine_learning_models/blob/main/data_prep_for_wordembeddings.ipynb\" target=\"_parent\"><img src=\"https://colab.research.google.com/assets/colab-badge.svg\" alt=\"Open In Colab\"/></a>"
      ]
    },
    {
      "cell_type": "code",
      "execution_count": 11,
      "metadata": {
        "colab": {
          "base_uri": "https://localhost:8080/"
        },
        "id": "OU7vjS4VGk5v",
        "outputId": "c390a5b7-0733-477e-dae3-e9d41f38d711"
      },
      "outputs": [
        {
          "output_type": "stream",
          "name": "stderr",
          "text": [
            "[nltk_data] Downloading package punkt to /root/nltk_data...\n",
            "[nltk_data]   Unzipping tokenizers/punkt.zip.\n"
          ]
        }
      ],
      "source": [
        "import re\n",
        "import nltk\n",
        "nltk.download('punkt')\n",
        "#import emoji \n",
        "import numpy as np\n",
        "from nltk.tokenize import word_tokenize\n",
        "#from utils2 import get_dict"
      ]
    },
    {
      "cell_type": "code",
      "source": [
        "corpus=\"What is wrong with you currently???\""
      ],
      "metadata": {
        "id": "MlhDf1d0HLJy"
      },
      "execution_count": 12,
      "outputs": []
    },
    {
      "cell_type": "code",
      "source": [
        "data=re.sub(r'[,!?;-]+','.',corpus)\n",
        "print(data)"
      ],
      "metadata": {
        "colab": {
          "base_uri": "https://localhost:8080/"
        },
        "id": "xQv8JykqHY69",
        "outputId": "a4e94825-99ed-4e17-988c-ea464d6b3e22"
      },
      "execution_count": 13,
      "outputs": [
        {
          "output_type": "stream",
          "name": "stdout",
          "text": [
            "What is wrong with you currently.\n"
          ]
        }
      ]
    },
    {
      "cell_type": "code",
      "source": [
        "data = nltk.word_tokenize(data)\n",
        "print(data)"
      ],
      "metadata": {
        "colab": {
          "base_uri": "https://localhost:8080/"
        },
        "id": "QLmNkecBH17C",
        "outputId": "839e346d-356a-4ff8-892e-ce7d8c96aa6a"
      },
      "execution_count": 14,
      "outputs": [
        {
          "output_type": "stream",
          "name": "stdout",
          "text": [
            "['What', 'is', 'wrong', 'with', 'you', 'currently', '.']\n"
          ]
        }
      ]
    },
    {
      "cell_type": "code",
      "source": [
        "data = [ch.lower() for ch in data\n",
        "        if ch.isalpha()\n",
        "        or ch== '.'\n",
        "      ]\n",
        "print(data)"
      ],
      "metadata": {
        "colab": {
          "base_uri": "https://localhost:8080/"
        },
        "id": "h_MfkfDOIjuu",
        "outputId": "a0aa6b4c-8fd8-4b58-efbb-6feaa18edc19"
      },
      "execution_count": 16,
      "outputs": [
        {
          "output_type": "stream",
          "name": "stdout",
          "text": [
            "['what', 'is', 'wrong', 'with', 'you', 'currently', '.']\n"
          ]
        }
      ]
    },
    {
      "cell_type": "code",
      "source": [
        "def get_windows(words,C):\n",
        "  i=C\n",
        "  while i< len(words)-C:\n",
        "    center_word=words[i]\n",
        "    context_words=words[(i-C):i]+ words[(i+1):(i+C+1)]\n",
        "    yield context_words,center_word\n",
        "    i+=1"
      ],
      "metadata": {
        "id": "_sY5XPHvJZfx"
      },
      "execution_count": 18,
      "outputs": []
    },
    {
      "cell_type": "code",
      "source": [
        "for x,y in get_windows(data,2):\n",
        "    print(f'{x}\\t{y}')"
      ],
      "metadata": {
        "colab": {
          "base_uri": "https://localhost:8080/"
        },
        "id": "y4JmWbgIJkN9",
        "outputId": "42b732c3-2227-4f15-f970-2a0de4f63754"
      },
      "execution_count": 19,
      "outputs": [
        {
          "output_type": "stream",
          "name": "stdout",
          "text": [
            "['what', 'is', 'with', 'you']\twrong\n",
            "['is', 'wrong', 'you', 'currently']\twith\n",
            "['wrong', 'with', 'currently', '.']\tyou\n"
          ]
        }
      ]
    }
  ]
}