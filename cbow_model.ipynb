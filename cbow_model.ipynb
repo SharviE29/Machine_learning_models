{
  "nbformat": 4,
  "nbformat_minor": 0,
  "metadata": {
    "colab": {
      "provenance": [],
      "authorship_tag": "ABX9TyMjPONvlwCCyrgyKfS7NAK3",
      "include_colab_link": true
    },
    "kernelspec": {
      "name": "python3",
      "display_name": "Python 3"
    },
    "language_info": {
      "name": "python"
    }
  },
  "cells": [
    {
      "cell_type": "markdown",
      "metadata": {
        "id": "view-in-github",
        "colab_type": "text"
      },
      "source": [
        "<a href=\"https://colab.research.google.com/github/SharviE29/Machine_learning_models/blob/main/cbow_model.ipynb\" target=\"_parent\"><img src=\"https://colab.research.google.com/assets/colab-badge.svg\" alt=\"Open In Colab\"/></a>"
      ]
    },
    {
      "cell_type": "code",
      "execution_count": 1,
      "metadata": {
        "id": "-weBPDXY3fUC"
      },
      "outputs": [],
      "source": [
        "import numpy as np"
      ]
    },
    {
      "cell_type": "code",
      "source": [
        "np.random.seed(10)\n",
        "z1=10*np.random.rand(5,1)-5\n",
        "print(z1)"
      ],
      "metadata": {
        "colab": {
          "base_uri": "https://localhost:8080/"
        },
        "id": "PDFGq4zy3rTk",
        "outputId": "a3261d1a-ac07-4fcf-cc9e-8dcaa1aaa016"
      },
      "execution_count": 2,
      "outputs": [
        {
          "output_type": "stream",
          "name": "stdout",
          "text": [
            "[[ 2.71320643]\n",
            " [-4.79248051]\n",
            " [ 1.33648235]\n",
            " [ 2.48803883]\n",
            " [-0.01492988]]\n"
          ]
        }
      ]
    },
    {
      "cell_type": "code",
      "source": [
        "h=z1.copy()"
      ],
      "metadata": {
        "id": "JWY8JWYt35cU"
      },
      "execution_count": 3,
      "outputs": []
    },
    {
      "cell_type": "code",
      "source": [
        "h<0\n",
        "#to determine only negative values"
      ],
      "metadata": {
        "colab": {
          "base_uri": "https://localhost:8080/"
        },
        "id": "AQSGILa53-b2",
        "outputId": "a52e261b-4525-4602-c07c-d300ca2529bf"
      },
      "execution_count": 4,
      "outputs": [
        {
          "output_type": "execute_result",
          "data": {
            "text/plain": [
              "array([[False],\n",
              "       [ True],\n",
              "       [False],\n",
              "       [False],\n",
              "       [ True]])"
            ]
          },
          "metadata": {},
          "execution_count": 4
        }
      ]
    },
    {
      "cell_type": "code",
      "source": [
        "h[h<0]=0\n",
        "print(h)"
      ],
      "metadata": {
        "colab": {
          "base_uri": "https://localhost:8080/"
        },
        "id": "tFepedc74EDq",
        "outputId": "1b9f80e4-1d82-434e-8434-270fdbb812d5"
      },
      "execution_count": 5,
      "outputs": [
        {
          "output_type": "stream",
          "name": "stdout",
          "text": [
            "[[2.71320643]\n",
            " [0.        ]\n",
            " [1.33648235]\n",
            " [2.48803883]\n",
            " [0.        ]]\n"
          ]
        }
      ]
    },
    {
      "cell_type": "code",
      "source": [
        "z=np.array([3,7,12.5,4,5])\n",
        "ez=np.exp(z)\n",
        "print(ez)\n"
      ],
      "metadata": {
        "colab": {
          "base_uri": "https://localhost:8080/"
        },
        "id": "JFtSd8SE4OG7",
        "outputId": "26009387-d511-478b-940f-5af073ca4385"
      },
      "execution_count": 6,
      "outputs": [
        {
          "output_type": "stream",
          "name": "stdout",
          "text": [
            "[2.00855369e+01 1.09663316e+03 2.68337287e+05 5.45981500e+01\n",
            " 1.48413159e+02]\n"
          ]
        }
      ]
    },
    {
      "cell_type": "code",
      "source": [
        "sum_ez=np.sum(ez)\n",
        "print(sum_ez)"
      ],
      "metadata": {
        "colab": {
          "base_uri": "https://localhost:8080/"
        },
        "id": "RHzNoy4Z4kKY",
        "outputId": "9bcf8802-27be-47c5-9e79-c101baa20d74"
      },
      "execution_count": 7,
      "outputs": [
        {
          "output_type": "stream",
          "name": "stdout",
          "text": [
            "269657.0165253618\n"
          ]
        }
      ]
    },
    {
      "cell_type": "code",
      "source": [
        "def softmax(z):\n",
        "  ez=np.exp(z)\n",
        "  sum_ez=np.sum(ez)\n",
        "  return ez/sum_ez"
      ],
      "metadata": {
        "id": "SVIMAzzQ4qjC"
      },
      "execution_count": 10,
      "outputs": []
    },
    {
      "cell_type": "code",
      "source": [
        "softmax(z)"
      ],
      "metadata": {
        "colab": {
          "base_uri": "https://localhost:8080/"
        },
        "id": "3DzJ4Jox4984",
        "outputId": "44350b08-cd67-4441-e04d-94c88d328ab9"
      },
      "execution_count": 11,
      "outputs": [
        {
          "output_type": "execute_result",
          "data": {
            "text/plain": [
              "array([7.44854971e-05, 4.06677035e-03, 9.95105894e-01, 2.02472573e-04,\n",
              "       5.50377517e-04])"
            ]
          },
          "metadata": {},
          "execution_count": 11
        }
      ]
    }
  ]
}